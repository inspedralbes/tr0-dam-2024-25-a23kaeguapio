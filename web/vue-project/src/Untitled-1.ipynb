{
 "cells": [
  {
   "cell_type": "code",
   "execution_count": null,
   "metadata": {},
   "outputs": [],
   "source": [
    "\n",
    "import math\n",
    "\n",
    "import json\n",
    "\n",
    "#pip3 install numpy\n",
    "#en windows desprès de pip3 install numpy: \n",
    "#py -m pip install numpy\n",
    "import numpy as np\n",
    "\n",
    "#py -m pip install --upgrade pip\n",
    "#py -m pip install pandas \n",
    "#Per a veure llibreires instal·lades pip list \n",
    "import numpy as np\n",
    "import pandas as pd\n",
    "\n",
    "#python -m pip install -U pip\n",
    "#python -m pip install -U matplotlib\n",
    "import matplotlib.pyplot  as plt\n",
    "import matplotlib as mpl\n",
    "\n",
    "import warnings\n",
    "warnings.filterwarnings('ignore')\n",
    "#np.range valors de 0 a 5 [0,1,2,3,4]\n",
    "x=np.range(5)\n",
    "y=np.array[2,9,0,3,5]\n",
    "plt.plot(x,y)\n",
    "plt.figure()\n",
    "plt.bar(x,y,color='orange')\n",
    "plt.show()\n"
   ]
  }
 ],
 "metadata": {
  "language_info": {
   "name": "python"
  }
 },
 "nbformat": 4,
 "nbformat_minor": 2
}
